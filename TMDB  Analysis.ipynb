{
 "cells": [
  {
   "cell_type": "markdown",
   "id": "72f579a5",
   "metadata": {},
   "source": [
    "# Project: IMDB-Movies\n",
    "\n",
    "## Table of Contents\n",
    "<ul>\n",
    "<li><a href=\"#intro\">Introduction</a></li>\n",
    "<li><a href=\"#wrangling\">Data Wrangling</a></li>\n",
    "<li><a href=\"#eda\">Exploratory Data Analysis</a></li>\n",
    "<li><a href=\"#conclusions\">Conclusions</a></li>\n",
    "</ul>"
   ]
  },
  {
   "cell_type": "markdown",
   "id": "91b732df",
   "metadata": {},
   "source": [
    "<a id='intro'></a>\n",
    "## Introduction\n",
    "\n",
    "> The dataset that I will be wrangling is the **TMDB Movie** this is data contain information about 10,000 movies collected from the movie database.\n",
    "\n",
    "<ol>\n",
    "    <li>Whose is the popular genres over years? <a href='#1'>Here</a></li>\n",
    "    <br>\n",
    "    <li>Where is the most correlation with revenue? <a href='#2'>Here</a></li>\n",
    "    <br>\n",
    "    <li>What is the most genre revenue & budget? <a href='#3'>Here</a></li>\n",
    "    <br>\n",
    "    <li>Whose is the top production revenue & budget? <a href='#4'>Here</a></li>\n",
    "    <br>\n",
    "    <li>Whose is the top production company that has product? <a href='#5'>Here</a></li>\n",
    "    <br>\n",
    "    <li>When revenue & budget & popularity goes up? <a href='#6'>Here</a></li>\n",
    "    <br>\n",
    "    <li>What is the top movie revenue and budget of every year? <a href='#7'>Here</a></li>\n",
    "    <br>\n",
    "    <li>What is the top 10 years revenue? <a href='#8'>Here</a></li>\n",
    "    <br>\n",
    "    <li>What is the top 10 movies losses and why? <a href='#9'>Here</a></li>\n",
    "\n",
    "</ol>"
   ]
  },
  {
   "cell_type": "code",
   "execution_count": 670,
   "id": "46e5b066",
   "metadata": {},
   "outputs": [],
   "source": [
    "# Import the important libraries \n",
    "import pandas as pd\n",
    "import numpy as np\n",
    "import matplotlib.pyplot as plt\n",
    "%matplotlib inline"
   ]
  },
  {
   "cell_type": "markdown",
   "id": "e57ba229",
   "metadata": {},
   "source": [
    "<a id='wrangling'></a>\n",
    "## Data Wrangling\n",
    "<ul>\n",
    "    <li><a href='#gather'>Gather</a></li>\n",
    "    <br>\n",
    "    <li><a href='#assess'>Assess</a></li> \n",
    "    <br>\n",
    "    <li><a href='#clean'>Clean</a></li>\n",
    "</ul>"
   ]
  },
  {
   "cell_type": "markdown",
   "id": "1dadaef4",
   "metadata": {},
   "source": [
    "<a id='gather'></a>\n",
    "## Gather"
   ]
  },
  {
   "cell_type": "code",
   "execution_count": 671,
   "id": "937f1b8e",
   "metadata": {},
   "outputs": [
    {
     "data": {
      "text/html": [
       "<div>\n",
       "<style scoped>\n",
       "    .dataframe tbody tr th:only-of-type {\n",
       "        vertical-align: middle;\n",
       "    }\n",
       "\n",
       "    .dataframe tbody tr th {\n",
       "        vertical-align: top;\n",
       "    }\n",
       "\n",
       "    .dataframe thead th {\n",
       "        text-align: right;\n",
       "    }\n",
       "</style>\n",
       "<table border=\"1\" class=\"dataframe\">\n",
       "  <thead>\n",
       "    <tr style=\"text-align: right;\">\n",
       "      <th></th>\n",
       "      <th>id</th>\n",
       "      <th>imdb_id</th>\n",
       "      <th>popularity</th>\n",
       "      <th>budget</th>\n",
       "      <th>revenue</th>\n",
       "      <th>original_title</th>\n",
       "      <th>cast</th>\n",
       "      <th>homepage</th>\n",
       "      <th>director</th>\n",
       "      <th>tagline</th>\n",
       "      <th>...</th>\n",
       "      <th>overview</th>\n",
       "      <th>runtime</th>\n",
       "      <th>genres</th>\n",
       "      <th>production_companies</th>\n",
       "      <th>release_date</th>\n",
       "      <th>vote_count</th>\n",
       "      <th>vote_average</th>\n",
       "      <th>release_year</th>\n",
       "      <th>budget_adj</th>\n",
       "      <th>revenue_adj</th>\n",
       "    </tr>\n",
       "  </thead>\n",
       "  <tbody>\n",
       "    <tr>\n",
       "      <th>7162</th>\n",
       "      <td>8981</td>\n",
       "      <td>tt0377752</td>\n",
       "      <td>0.245910</td>\n",
       "      <td>0</td>\n",
       "      <td>0</td>\n",
       "      <td>Dear Frankie</td>\n",
       "      <td>Gerard Butler|Emily Mortimer|Sharon Small|Katy...</td>\n",
       "      <td>NaN</td>\n",
       "      <td>Shona Auerbach</td>\n",
       "      <td>NaN</td>\n",
       "      <td>...</td>\n",
       "      <td>Nine-year-old Frankie and his single mum Lizzi...</td>\n",
       "      <td>105</td>\n",
       "      <td>Drama|Family</td>\n",
       "      <td>Scottish Screen|PathÃ© Pictures International|...</td>\n",
       "      <td>5/18/04</td>\n",
       "      <td>17</td>\n",
       "      <td>6.0</td>\n",
       "      <td>2004</td>\n",
       "      <td>0.0</td>\n",
       "      <td>0.0</td>\n",
       "    </tr>\n",
       "    <tr>\n",
       "      <th>2160</th>\n",
       "      <td>30061</td>\n",
       "      <td>tt1494772</td>\n",
       "      <td>0.400305</td>\n",
       "      <td>0</td>\n",
       "      <td>0</td>\n",
       "      <td>Justice League: Crisis on Two Earths</td>\n",
       "      <td>Mark Harmon|William Baldwin|James Woods|Nolan ...</td>\n",
       "      <td>http://warnervideo.com/justiceleaguecrisis/</td>\n",
       "      <td>Sam Liu|Lauren Montgomery</td>\n",
       "      <td>When Justice meets its match, worlds collide.</td>\n",
       "      <td>...</td>\n",
       "      <td>A heroic version of Lex Luthor from an alterna...</td>\n",
       "      <td>75</td>\n",
       "      <td>Action|Adventure|Animation</td>\n",
       "      <td>DC Comics|Warner Premiere</td>\n",
       "      <td>2/23/10</td>\n",
       "      <td>79</td>\n",
       "      <td>7.1</td>\n",
       "      <td>2010</td>\n",
       "      <td>0.0</td>\n",
       "      <td>0.0</td>\n",
       "    </tr>\n",
       "    <tr>\n",
       "      <th>1197</th>\n",
       "      <td>285838</td>\n",
       "      <td>tt1718915</td>\n",
       "      <td>0.130592</td>\n",
       "      <td>0</td>\n",
       "      <td>0</td>\n",
       "      <td>Teen Lust</td>\n",
       "      <td>Cary Elwes|Emmanuelle Vaugier|Kristin Bauer va...</td>\n",
       "      <td>NaN</td>\n",
       "      <td>Blaine Thurier</td>\n",
       "      <td>Get laid or die trying.</td>\n",
       "      <td>...</td>\n",
       "      <td>A shy high schooler struggles to lose his virg...</td>\n",
       "      <td>80</td>\n",
       "      <td>Comedy</td>\n",
       "      <td>Independent Edge FIlms|Farpoint Films|Telefilm...</td>\n",
       "      <td>9/4/14</td>\n",
       "      <td>12</td>\n",
       "      <td>4.3</td>\n",
       "      <td>2014</td>\n",
       "      <td>0.0</td>\n",
       "      <td>0.0</td>\n",
       "    </tr>\n",
       "  </tbody>\n",
       "</table>\n",
       "<p>3 rows × 21 columns</p>\n",
       "</div>"
      ],
      "text/plain": [
       "          id    imdb_id  popularity  budget  revenue  \\\n",
       "7162    8981  tt0377752    0.245910       0        0   \n",
       "2160   30061  tt1494772    0.400305       0        0   \n",
       "1197  285838  tt1718915    0.130592       0        0   \n",
       "\n",
       "                            original_title  \\\n",
       "7162                          Dear Frankie   \n",
       "2160  Justice League: Crisis on Two Earths   \n",
       "1197                             Teen Lust   \n",
       "\n",
       "                                                   cast  \\\n",
       "7162  Gerard Butler|Emily Mortimer|Sharon Small|Katy...   \n",
       "2160  Mark Harmon|William Baldwin|James Woods|Nolan ...   \n",
       "1197  Cary Elwes|Emmanuelle Vaugier|Kristin Bauer va...   \n",
       "\n",
       "                                         homepage                   director  \\\n",
       "7162                                          NaN             Shona Auerbach   \n",
       "2160  http://warnervideo.com/justiceleaguecrisis/  Sam Liu|Lauren Montgomery   \n",
       "1197                                          NaN             Blaine Thurier   \n",
       "\n",
       "                                            tagline  ...  \\\n",
       "7162                                            NaN  ...   \n",
       "2160  When Justice meets its match, worlds collide.  ...   \n",
       "1197                        Get laid or die trying.  ...   \n",
       "\n",
       "                                               overview runtime  \\\n",
       "7162  Nine-year-old Frankie and his single mum Lizzi...     105   \n",
       "2160  A heroic version of Lex Luthor from an alterna...      75   \n",
       "1197  A shy high schooler struggles to lose his virg...      80   \n",
       "\n",
       "                          genres  \\\n",
       "7162                Drama|Family   \n",
       "2160  Action|Adventure|Animation   \n",
       "1197                      Comedy   \n",
       "\n",
       "                                   production_companies release_date  \\\n",
       "7162  Scottish Screen|PathÃ© Pictures International|...      5/18/04   \n",
       "2160                          DC Comics|Warner Premiere      2/23/10   \n",
       "1197  Independent Edge FIlms|Farpoint Films|Telefilm...       9/4/14   \n",
       "\n",
       "     vote_count  vote_average  release_year  budget_adj  revenue_adj  \n",
       "7162         17           6.0          2004         0.0          0.0  \n",
       "2160         79           7.1          2010         0.0          0.0  \n",
       "1197         12           4.3          2014         0.0          0.0  \n",
       "\n",
       "[3 rows x 21 columns]"
      ]
     },
     "execution_count": 671,
     "metadata": {},
     "output_type": "execute_result"
    }
   ],
   "source": [
    "# put data into a dataframe\n",
    "df = pd.read_csv('tmdb-movies.csv')\n",
    "df.sample(3)"
   ]
  },
  {
   "cell_type": "markdown",
   "id": "655efa86",
   "metadata": {},
   "source": [
    "<a id='assess'></a>\n",
    "## Assess"
   ]
  },
  {
   "cell_type": "code",
   "execution_count": 672,
   "id": "0a37e7ee",
   "metadata": {},
   "outputs": [
    {
     "data": {
      "text/plain": [
       "1"
      ]
     },
     "execution_count": 672,
     "metadata": {},
     "output_type": "execute_result"
    }
   ],
   "source": [
    "df.id.duplicated().sum()"
   ]
  },
  {
   "cell_type": "code",
   "execution_count": 673,
   "id": "643570da",
   "metadata": {},
   "outputs": [
    {
     "name": "stdout",
     "output_type": "stream",
     "text": [
      "Index(['id', 'imdb_id', 'popularity', 'budget', 'revenue', 'original_title',\n",
      "       'cast', 'homepage', 'director', 'tagline', 'keywords', 'overview',\n",
      "       'runtime', 'genres', 'production_companies', 'release_date',\n",
      "       'vote_count', 'vote_average', 'release_year', 'budget_adj',\n",
      "       'revenue_adj'],\n",
      "      dtype='object') \n",
      "\n",
      "\n",
      "<class 'pandas.core.frame.DataFrame'>\n",
      "RangeIndex: 10866 entries, 0 to 10865\n",
      "Data columns (total 21 columns):\n",
      " #   Column                Non-Null Count  Dtype  \n",
      "---  ------                --------------  -----  \n",
      " 0   id                    10866 non-null  int64  \n",
      " 1   imdb_id               10856 non-null  object \n",
      " 2   popularity            10866 non-null  float64\n",
      " 3   budget                10866 non-null  int64  \n",
      " 4   revenue               10866 non-null  int64  \n",
      " 5   original_title        10866 non-null  object \n",
      " 6   cast                  10790 non-null  object \n",
      " 7   homepage              2936 non-null   object \n",
      " 8   director              10822 non-null  object \n",
      " 9   tagline               8042 non-null   object \n",
      " 10  keywords              9373 non-null   object \n",
      " 11  overview              10862 non-null  object \n",
      " 12  runtime               10866 non-null  int64  \n",
      " 13  genres                10843 non-null  object \n",
      " 14  production_companies  9836 non-null   object \n",
      " 15  release_date          10866 non-null  object \n",
      " 16  vote_count            10866 non-null  int64  \n",
      " 17  vote_average          10866 non-null  float64\n",
      " 18  release_year          10866 non-null  int64  \n",
      " 19  budget_adj            10866 non-null  float64\n",
      " 20  revenue_adj           10866 non-null  float64\n",
      "dtypes: float64(4), int64(6), object(11)\n",
      "memory usage: 1.7+ MB\n",
      "None \n",
      "\n",
      "\n",
      "                  id    popularity        budget       revenue       runtime  \\\n",
      "count   10866.000000  10866.000000  1.086600e+04  1.086600e+04  10866.000000   \n",
      "mean    66064.177434      0.646441  1.462570e+07  3.982332e+07    102.070863   \n",
      "std     92130.136561      1.000185  3.091321e+07  1.170035e+08     31.381405   \n",
      "min         5.000000      0.000065  0.000000e+00  0.000000e+00      0.000000   \n",
      "25%     10596.250000      0.207583  0.000000e+00  0.000000e+00     90.000000   \n",
      "50%     20669.000000      0.383856  0.000000e+00  0.000000e+00     99.000000   \n",
      "75%     75610.000000      0.713817  1.500000e+07  2.400000e+07    111.000000   \n",
      "max    417859.000000     32.985763  4.250000e+08  2.781506e+09    900.000000   \n",
      "\n",
      "         vote_count  vote_average  release_year    budget_adj   revenue_adj  \n",
      "count  10866.000000  10866.000000  10866.000000  1.086600e+04  1.086600e+04  \n",
      "mean     217.389748      5.974922   2001.322658  1.755104e+07  5.136436e+07  \n",
      "std      575.619058      0.935142     12.812941  3.430616e+07  1.446325e+08  \n",
      "min       10.000000      1.500000   1960.000000  0.000000e+00  0.000000e+00  \n",
      "25%       17.000000      5.400000   1995.000000  0.000000e+00  0.000000e+00  \n",
      "50%       38.000000      6.000000   2006.000000  0.000000e+00  0.000000e+00  \n",
      "75%      145.750000      6.600000   2011.000000  2.085325e+07  3.369710e+07  \n",
      "max     9767.000000      9.200000   2015.000000  4.250000e+08  2.827124e+09   \n",
      "\n",
      "\n",
      "imdb_id                   10\n",
      "cast                      76\n",
      "homepage                7930\n",
      "director                  44\n",
      "tagline                 2824\n",
      "keywords                1493\n",
      "overview                   4\n",
      "genres                    23\n",
      "production_companies    1030\n",
      "dtype: int64\n"
     ]
    }
   ],
   "source": [
    "print(df.columns, '\\n\\n')\n",
    "print(df.info(), '\\n\\n')\n",
    "print(df.describe(), '\\n\\n')\n",
    "print(df.isnull().sum()[df.isnull().sum() !=0])"
   ]
  },
  {
   "cell_type": "markdown",
   "id": "2fc9efda",
   "metadata": {},
   "source": [
    "#### Quality\n",
    "<ul>\n",
    "    <li>Some of columns have many nulls like [home_page, tagline, keywords] drop them</li>\n",
    "    <li>We only need one identifier i chose id and drop imdb_id </li>\n",
    "    <li>Other columns have few nulls value like [imdb_id, cast, director, overview, generes]</li>\n",
    "    <li>Drop duplicated ids</li>\n",
    "    <li>Replace the 0 values in budget_adj & revenue_adj with null</li>\n",
    "</ul>"
   ]
  },
  {
   "cell_type": "markdown",
   "id": "4228fc70",
   "metadata": {},
   "source": [
    "#### Tidiness\n",
    "<ul>\n",
    "    <li>Some columns have multiple value like [cast, director, genres, production_companies] split with | needed to be in another table</li>\n",
    "</ul>"
   ]
  },
  {
   "cell_type": "markdown",
   "id": "8e5646d5",
   "metadata": {},
   "source": [
    "<a id='clean'></a>\n",
    "### Cleaning"
   ]
  },
  {
   "cell_type": "code",
   "execution_count": 674,
   "id": "bd7edce9",
   "metadata": {},
   "outputs": [],
   "source": [
    "# create a copy of dataset to work on it\n",
    "df_copy = df.copy()"
   ]
  },
  {
   "cell_type": "markdown",
   "id": "350acff7",
   "metadata": {},
   "source": [
    "### Quality issues"
   ]
  },
  {
   "cell_type": "code",
   "execution_count": 675,
   "id": "aff91602",
   "metadata": {},
   "outputs": [],
   "source": [
    "# Drop unnecessary columns\n",
    "columns_to_drop = ['homepage', 'tagline', 'keywords', 'imdb_id', 'budget', 'revenue', 'release_date']\n",
    "if any(item in columns_to_drop for item in list(df_copy.columns)):\n",
    "    df_copy.drop(columns_to_drop, axis=1, inplace=True)"
   ]
  },
  {
   "cell_type": "code",
   "execution_count": 676,
   "id": "9e05b238",
   "metadata": {},
   "outputs": [],
   "source": [
    "# Drop all duplicated of id column\n",
    "df_copy.drop_duplicates(subset='id', inplace=True)"
   ]
  },
  {
   "cell_type": "code",
   "execution_count": 677,
   "id": "7ebc9dde",
   "metadata": {},
   "outputs": [],
   "source": [
    "# Replace the 0 values with nulls\n",
    "convert_to_null_list = ['budget_adj', 'revenue_adj']\n",
    "for i in convert_to_null_list:\n",
    "    df_copy[i].replace(0, np.NAN, inplace=True)"
   ]
  },
  {
   "cell_type": "markdown",
   "id": "41e66e98",
   "metadata": {},
   "source": [
    "### Tidiness issues"
   ]
  },
  {
   "cell_type": "code",
   "execution_count": 678,
   "id": "a7877cbb",
   "metadata": {},
   "outputs": [],
   "source": [
    "# Seprate the columns into a new table\n",
    "if 'cast' in df_copy.columns:\n",
    "    df_casts = df_copy[['id', 'cast']]\n",
    "    df_directors = df_copy[['id', 'director']]\n",
    "    df_genres = df_copy[['id', 'genres']]\n",
    "    df_productions = df_copy[['id', 'production_companies']].rename(columns={'production_companies': 'production'})"
   ]
  },
  {
   "cell_type": "code",
   "execution_count": 679,
   "id": "01081a2e",
   "metadata": {},
   "outputs": [],
   "source": [
    "# This function split the values by | \n",
    "# And concat these values with ids \n",
    "# Then convert the shape by melt \n",
    "# Last step drop unwanted columns and reset index\n",
    "# return dataframe\n",
    "def df_converter(df_name):\n",
    "    df = pd.concat([df_name, df_name.iloc[:, 1].str.split('|', expand = True)],axis=1).drop(columns=df_name.columns[1]).\\\n",
    "                    melt(id_vars='id', value_name=df_name.columns[1]).sort_values('id').drop(columns='variable').\\\n",
    "                    dropna().reset_index(drop=True)\n",
    "    return df"
   ]
  },
  {
   "cell_type": "code",
   "execution_count": 680,
   "id": "3db1f34b",
   "metadata": {},
   "outputs": [],
   "source": [
    "# Assign the return of the function that hand me a new table\n",
    "df_casts = df_converter(df_casts)\n",
    "df_directors = df_converter(df_directors)\n",
    "df_genres = df_converter(df_genres)\n",
    "df_productions = df_converter(df_productions)"
   ]
  },
  {
   "cell_type": "code",
   "execution_count": 681,
   "id": "0a0f8d02",
   "metadata": {},
   "outputs": [],
   "source": [
    "# Drop unnecessary columns \n",
    "columns_to_drop = ['cast', 'director', 'genres', 'production_companies']\n",
    "if any(item in columns_to_drop for item in list(df_copy.columns)):\n",
    "    df_copy.drop(columns_to_drop, axis=1, inplace=True)"
   ]
  },
  {
   "cell_type": "code",
   "execution_count": 682,
   "id": "3c39a943",
   "metadata": {},
   "outputs": [
    {
     "name": "stdout",
     "output_type": "stream",
     "text": [
      "<class 'pandas.core.frame.DataFrame'>\n",
      "Int64Index: 10865 entries, 0 to 10865\n",
      "Data columns (total 10 columns):\n",
      " #   Column          Non-Null Count  Dtype  \n",
      "---  ------          --------------  -----  \n",
      " 0   id              10865 non-null  int64  \n",
      " 1   popularity      10865 non-null  float64\n",
      " 2   original_title  10865 non-null  object \n",
      " 3   overview        10861 non-null  object \n",
      " 4   runtime         10865 non-null  int64  \n",
      " 5   vote_count      10865 non-null  int64  \n",
      " 6   vote_average    10865 non-null  float64\n",
      " 7   release_year    10865 non-null  int64  \n",
      " 8   budget_adj      5169 non-null   float64\n",
      " 9   revenue_adj     4849 non-null   float64\n",
      "dtypes: float64(4), int64(4), object(2)\n",
      "memory usage: 933.7+ KB\n"
     ]
    }
   ],
   "source": [
    "df_copy.info()"
   ]
  },
  {
   "cell_type": "code",
   "execution_count": 683,
   "id": "c20b18c6",
   "metadata": {},
   "outputs": [
    {
     "data": {
      "text/html": [
       "<div>\n",
       "<style scoped>\n",
       "    .dataframe tbody tr th:only-of-type {\n",
       "        vertical-align: middle;\n",
       "    }\n",
       "\n",
       "    .dataframe tbody tr th {\n",
       "        vertical-align: top;\n",
       "    }\n",
       "\n",
       "    .dataframe thead th {\n",
       "        text-align: right;\n",
       "    }\n",
       "</style>\n",
       "<table border=\"1\" class=\"dataframe\">\n",
       "  <thead>\n",
       "    <tr style=\"text-align: right;\">\n",
       "      <th></th>\n",
       "      <th>id</th>\n",
       "      <th>popularity</th>\n",
       "      <th>original_title</th>\n",
       "      <th>overview</th>\n",
       "      <th>runtime</th>\n",
       "      <th>vote_count</th>\n",
       "      <th>vote_average</th>\n",
       "      <th>release_year</th>\n",
       "      <th>budget_adj</th>\n",
       "      <th>revenue_adj</th>\n",
       "    </tr>\n",
       "  </thead>\n",
       "  <tbody>\n",
       "    <tr>\n",
       "      <th>4582</th>\n",
       "      <td>127374</td>\n",
       "      <td>0.451287</td>\n",
       "      <td>Arthur Newman</td>\n",
       "      <td>A story of a man who fakes his own death and a...</td>\n",
       "      <td>101</td>\n",
       "      <td>33</td>\n",
       "      <td>5.5</td>\n",
       "      <td>2012</td>\n",
       "      <td>NaN</td>\n",
       "      <td>NaN</td>\n",
       "    </tr>\n",
       "  </tbody>\n",
       "</table>\n",
       "</div>"
      ],
      "text/plain": [
       "          id  popularity original_title  \\\n",
       "4582  127374    0.451287  Arthur Newman   \n",
       "\n",
       "                                               overview  runtime  vote_count  \\\n",
       "4582  A story of a man who fakes his own death and a...      101          33   \n",
       "\n",
       "      vote_average  release_year  budget_adj  revenue_adj  \n",
       "4582           5.5          2012         NaN          NaN  "
      ]
     },
     "execution_count": 683,
     "metadata": {},
     "output_type": "execute_result"
    }
   ],
   "source": [
    "df_copy.sample()"
   ]
  },
  {
   "cell_type": "markdown",
   "id": "355803d1",
   "metadata": {},
   "source": [
    "<a id='eda'></a>\n",
    "## Exploratory Data Analysis"
   ]
  },
  {
   "cell_type": "markdown",
   "id": "2993f7a9",
   "metadata": {},
   "source": [
    "<a id='1'></a>\n",
    "### Research Question 1 (popular genres over years)"
   ]
  },
  {
   "cell_type": "code",
   "execution_count": 684,
   "id": "01f6af46",
   "metadata": {},
   "outputs": [
    {
     "name": "stderr",
     "output_type": "stream",
     "text": [
      "C:\\Users\\PC\\AppData\\Local\\Temp/ipykernel_3372/2508812109.py:5: FutureWarning: inplace is deprecated and will be removed in a future version.\n",
      "  popular_genre.columns.set_levels(['most_common', 'counts'], level=1, inplace=True)\n"
     ]
    }
   ],
   "source": [
    "# Find the most popular genres over years\n",
    "genres = df_copy.merge(df_genres, on='id')\n",
    "popular_genre = genres.groupby('release_year').agg({'genres': [lambda x: x.value_counts().idxmax(), \n",
    "                                                               lambda x: x.value_counts().max()]})\n",
    "popular_genre.columns.set_levels(['most_common', 'counts'], level=1, inplace=True)\n",
    "popular_genre.reset_index(inplace = True)"
   ]
  },
  {
   "cell_type": "code",
   "execution_count": 686,
   "id": "3cf4f38b",
   "metadata": {},
   "outputs": [
    {
     "data": {
      "image/png": "[encoded data removed]",
      "text/plain": [
       "<Figure size 432x288 with 1 Axes>"
      ]
     },
     "metadata": {
      "needs_background": "light"
     },
     "output_type": "display_data"
    }
   ],
   "source": [
    "# plot shows the top genres over 56 years\n",
    "\n",
    "fig, ax = plt.subplots()\n",
    "ax.bar('Drama', popular_genre.genres.most_common.value_counts()[0])\n",
    "ax.bar('Comedy', popular_genre.genres.most_common.value_counts()[1])\n",
    "ax.bar_label(ax.bar('Drama', popular_genre.genres.most_common.value_counts()[0]), fontsize=10)\n",
    "ax.bar_label(ax.bar('Comedy', popular_genre.genres.most_common.value_counts()[1]), fontsize=10)\n",
    "ax.set_title('popular genres over 56 years', pad=15)\n",
    "ax.set_xlabel('Genres')\n",
    "ax.set_ylabel('Count');"
   ]
  },
  {
   "cell_type": "markdown",
   "id": "25949619",
   "metadata": {},
   "source": [
    "I Found that over 56 years the most popular genre is **Drama by 46 years** and **Comedy by 10 years** these is the most popular genres from 1960 to 2015"
   ]
  },
  {
   "cell_type": "markdown",
   "id": "988b0fef",
   "metadata": {},
   "source": [
    "<a id='2'></a>\n",
    "### Research Question 2  (The most correlation with revenue)"
   ]
  },
  {
   "cell_type": "code",
   "execution_count": 711,
   "id": "8cc518ec",
   "metadata": {
    "scrolled": false
   },
   "outputs": [
    {
     "data": {
      "image/png": "[encoded data removed]",
      "text/plain": [
       "<Figure size 2880x360 with 3 Axes>"
      ]
     },
     "metadata": {
      "needs_background": "light"
     },
     "output_type": "display_data"
    }
   ],
   "source": [
    "fig, ax = plt.subplots(1, 3, sharey=True)\n",
    "fig.tight_layout()\n",
    "fig.set_figwidth(40)\n",
    "fig.set_figheight(5)\n",
    "\n",
    "# Graphs input data\n",
    "ax[0].scatter(df_copy.vote_count, df_copy.revenue_adj, alpha=.5)\n",
    "ax[1].scatter(df_copy.popularity, df_copy.revenue_adj, alpha=.5)\n",
    "ax[2].scatter(df_copy.budget_adj, df_copy.revenue_adj, alpha=.5)\n",
    "\n",
    "# Titles for graphs\n",
    "ax[0].set_title(\"revenue vs vote count\", fontsize=25)\n",
    "ax[1].set_title(\"revenue vs popularity\", fontsize=25)\n",
    "ax[2].set_title(\"revenue vs budget_adj\", fontsize=25)\n",
    "\n",
    "# Set x label\n",
    "ax[0].set_xlabel(\"vote count\", fontsize=25)\n",
    "ax[1].set_xlabel(\"popularity\", fontsize=25)\n",
    "ax[2].set_xlabel(\"budget_adj\", fontsize=25)\n",
    "\n",
    "# Set y label\n",
    "ax[0].set_ylabel('revenue', fontsize=40, labelpad=30);"
   ]
  },
  {
   "cell_type": "markdown",
   "id": "c47140c6",
   "metadata": {},
   "source": [
    "I found that the most correlation with revenue is **vote count** and **budget**"
   ]
  },
  {
   "cell_type": "markdown",
   "id": "5b8e95eb",
   "metadata": {},
   "source": [
    "<a id='3'></a>\n",
    "### Research Question 3  (Revenue and budget by genres)"
   ]
  },
  {
   "cell_type": "code",
   "execution_count": 712,
   "id": "affa3ae4",
   "metadata": {},
   "outputs": [
    {
     "data": {
      "image/png": "[encoded data removed]",
      "text/plain": [
       "<Figure size 432x288 with 1 Axes>"
      ]
     },
     "metadata": {
      "needs_background": "light"
     },
     "output_type": "display_data"
    }
   ],
   "source": [
    "# a plot shows the top genres has revenue and budget\n",
    "# Group by genres and sum the revenue and budget over these genres\n",
    "# and sort them up to down and reset index get top 10\n",
    "genre_revenue = genres.groupby('genres').agg({'revenue_adj': 'sum'}).sort_values('revenue_adj', ascending = False)\\\n",
    "                        .reset_index().head(10)\n",
    "genre_budget = genres.groupby('genres').agg({'budget_adj': 'sum'}).sort_values('budget_adj', ascending=False)\\\n",
    "                    .reset_index().head(10)\n",
    "genre_rev_budget_comp = genre_revenue.merge(genre_budget)\n",
    "\n",
    "# Bar graph\n",
    "genre_rev_budget_comp.plot(x='genres', y=['revenue_adj', 'budget_adj'], kind='bar')\n",
    "plt.ylabel(\"amount\");\n"
   ]
  },
  {
   "cell_type": "code",
   "execution_count": 713,
   "id": "6e12fb9d",
   "metadata": {},
   "outputs": [
    {
     "data": {
      "image/png": "[encoded data removed]",
      "text/plain": [
       "<Figure size 432x288 with 1 Axes>"
      ]
     },
     "metadata": {
      "needs_background": "light"
     },
     "output_type": "display_data"
    }
   ],
   "source": [
    "genres.genres.value_counts().head(10).plot(x='genres', kind='bar')\n",
    "plt.ylabel(\"count\");"
   ]
  },
  {
   "cell_type": "markdown",
   "id": "43ddae57",
   "metadata": {},
   "source": [
    "I found that the most genre revenue income and budget spend is **Action**, and **Drama** is the most production and even that it doesn't return most revenue."
   ]
  },
  {
   "cell_type": "markdown",
   "id": "d75cd1b4",
   "metadata": {},
   "source": [
    "<a id='4'></a>\n",
    "### Research Question 4  (revenue & budget of production companies)"
   ]
  },
  {
   "cell_type": "code",
   "execution_count": 714,
   "id": "7c5d1059",
   "metadata": {},
   "outputs": [],
   "source": [
    "# Get the revenue and budget over the production companies \n",
    "# Group by the production and sum revenue and budget\n",
    "# and sort them up to down and reset index and get the top 10\n",
    "productions = df_productions.merge(df_copy)\n",
    "production_counts = productions.production.value_counts().reset_index().rename(columns={'production': 'total_count',\n",
    "                                                'index': 'production'}).head(10)\n",
    "production_rev_bud = productions.groupby('production').agg({'revenue_adj': 'sum','budget_adj': 'sum'})\\\n",
    "                                .sort_values(['revenue_adj', 'budget_adj'], ascending = False).reset_index().head(10)"
   ]
  },
  {
   "cell_type": "code",
   "execution_count": 715,
   "id": "1c02cd1c",
   "metadata": {},
   "outputs": [],
   "source": [
    "dfs = productions.merge(genres)\n",
    "cat = dfs.groupby(['production', 'genres']).agg({'genres': 'count'}).rename(columns={'genres': 'Action_count'}).reset_index()\\\n",
    "        .sort_values('Action_count', ascending=False)"
   ]
  },
  {
   "cell_type": "code",
   "execution_count": 716,
   "id": "9123ed0f",
   "metadata": {
    "scrolled": false
   },
   "outputs": [
    {
     "data": {
      "text/html": [
       "<div>\n",
       "<style scoped>\n",
       "    .dataframe tbody tr th:only-of-type {\n",
       "        vertical-align: middle;\n",
       "    }\n",
       "\n",
       "    .dataframe tbody tr th {\n",
       "        vertical-align: top;\n",
       "    }\n",
       "\n",
       "    .dataframe thead th {\n",
       "        text-align: right;\n",
       "    }\n",
       "</style>\n",
       "<table border=\"1\" class=\"dataframe\">\n",
       "  <thead>\n",
       "    <tr style=\"text-align: right;\">\n",
       "      <th></th>\n",
       "      <th>production</th>\n",
       "      <th>total_count</th>\n",
       "      <th>genres</th>\n",
       "      <th>Action_count</th>\n",
       "    </tr>\n",
       "  </thead>\n",
       "  <tbody>\n",
       "    <tr>\n",
       "      <th>0</th>\n",
       "      <td>Universal Pictures</td>\n",
       "      <td>522</td>\n",
       "      <td>Action</td>\n",
       "      <td>157</td>\n",
       "    </tr>\n",
       "    <tr>\n",
       "      <th>1</th>\n",
       "      <td>Warner Bros.</td>\n",
       "      <td>509</td>\n",
       "      <td>Action</td>\n",
       "      <td>177</td>\n",
       "    </tr>\n",
       "  </tbody>\n",
       "</table>\n",
       "</div>"
      ],
      "text/plain": [
       "           production  total_count  genres  Action_count\n",
       "0  Universal Pictures          522  Action           157\n",
       "1        Warner Bros.          509  Action           177"
      ]
     },
     "execution_count": 716,
     "metadata": {},
     "output_type": "execute_result"
    },
    {
     "data": {
      "image/png": "[encoded data removed]",
      "text/plain": [
       "<Figure size 432x288 with 1 Axes>"
      ]
     },
     "metadata": {
      "needs_background": "light"
     },
     "output_type": "display_data"
    }
   ],
   "source": [
    "# Making a horizontal bar shows the top 10 production's revenue & budget \n",
    "production_rev_bud.plot(x='production', y=['revenue_adj', 'budget_adj'], kind='barh').invert_yaxis()\n",
    "plt.title('Revenue and budget of the top 10 production')\n",
    "plt.ylabel(\"production\")\n",
    "plt.xlabel(\"Amount\");\n",
    "production_counts.head(2).merge(cat[cat.genres == 'Action'].head(2))"
   ]
  },
  {
   "cell_type": "markdown",
   "id": "e3f300bc",
   "metadata": {},
   "source": [
    "The top production of revenue and budget is **Warner Bros** , But the most production is **Universal Picutres**, **Warner Bros** make better revenue because it producted more action films as we see"
   ]
  },
  {
   "cell_type": "markdown",
   "id": "7c2a64f4",
   "metadata": {},
   "source": [
    "<a id='5'></a>\n",
    "### Research Question 5  (count of top production company that has product)"
   ]
  },
  {
   "cell_type": "code",
   "execution_count": 717,
   "id": "292a708a",
   "metadata": {},
   "outputs": [
    {
     "data": {
      "image/png": "[encoded data removed]",
      "text/plain": [
       "<Figure size 432x288 with 1 Axes>"
      ]
     },
     "metadata": {
      "needs_background": "light"
     },
     "output_type": "display_data"
    }
   ],
   "source": [
    "# Get 10 top production companies that has product\n",
    "plt.barh(production_counts['production'], production_counts['total_count'])\n",
    "plt.gca().invert_yaxis()\n",
    "plt.title('Counts of product of the top 10 production')\n",
    "plt.ylabel('production')\n",
    "plt.xlabel('Counts');"
   ]
  },
  {
   "cell_type": "markdown",
   "id": "47284348",
   "metadata": {},
   "source": [
    "The top production of product is **Universal Picture**"
   ]
  },
  {
   "cell_type": "markdown",
   "id": "7cc127f9",
   "metadata": {},
   "source": [
    "<a id='6'></a>\n",
    "### Research Question 6  (track the revenue and budget and popularity over years)"
   ]
  },
  {
   "cell_type": "code",
   "execution_count": 720,
   "id": "588f669e",
   "metadata": {},
   "outputs": [
    {
     "data": {
      "image/png": "[encoded data removed]",
      "text/plain": [
       "<Figure size 1080x504 with 2 Axes>"
      ]
     },
     "metadata": {
      "needs_background": "light"
     },
     "output_type": "display_data"
    }
   ],
   "source": [
    "# track the revenue and budget over years\n",
    "# Group by year and sum the revenue and budget reset index \n",
    "rev_bgd_pop_ovy = df_copy.groupby('release_year').agg({'revenue_adj': 'sum', 'budget_adj': 'sum', \n",
    "                                                       'popularity': 'sum'}).reset_index()\n",
    "\n",
    "# Making a line plot shows the revenue and budget over years\n",
    "fig, ax = plt.subplots(2, 1, sharex=True)\n",
    "ax[0].plot(rev_bgd_pop_ovy['release_year'], rev_bgd_pop_ovy['revenue_adj'], color='b', label='Revenue')\n",
    "ax[0].plot(rev_bgd_pop_ovy['release_year'], rev_bgd_pop_ovy['budget_adj'], color='r', label='Budget', linestyle='--')\n",
    "ax[1].plot(rev_bgd_pop_ovy['release_year'], rev_bgd_pop_ovy['popularity'], color='y')\n",
    "\n",
    "# Adjust plot\n",
    "ax[0].legend(loc='best')\n",
    "ax[0].set_ylabel(\"Amount\")\n",
    "ax[0].set_title('Revenue and budget throw years')\n",
    "ax[1].set_ylabel('popularity')\n",
    "ax[1].set_title('Popularity throw years')\n",
    "ax[1].set_xlabel('year')\n",
    "fig.set_figwidth(15)\n",
    "fig.set_figheight(7)\n",
    "plt.subplots_adjust(hspace=0.3);"
   ]
  },
  {
   "cell_type": "markdown",
   "id": "d57ac7de",
   "metadata": {},
   "source": [
    "I found that revenue & budget & popularity goes up over years"
   ]
  },
  {
   "cell_type": "markdown",
   "id": "f217ee00",
   "metadata": {},
   "source": [
    "<a id='7'></a>\n",
    "### Research Question 7  (top movie revenue and budget of every year)"
   ]
  },
  {
   "cell_type": "code",
   "execution_count": 721,
   "id": "b36d95ce",
   "metadata": {
    "scrolled": true
   },
   "outputs": [
    {
     "data": {
      "text/html": [
       "<div>\n",
       "<style scoped>\n",
       "    .dataframe tbody tr th:only-of-type {\n",
       "        vertical-align: middle;\n",
       "    }\n",
       "\n",
       "    .dataframe tbody tr th {\n",
       "        vertical-align: top;\n",
       "    }\n",
       "\n",
       "    .dataframe thead th {\n",
       "        text-align: right;\n",
       "    }\n",
       "</style>\n",
       "<table border=\"1\" class=\"dataframe\">\n",
       "  <thead>\n",
       "    <tr style=\"text-align: right;\">\n",
       "      <th></th>\n",
       "      <th>original_title</th>\n",
       "      <th>revenue_adj</th>\n",
       "      <th>budget_adj</th>\n",
       "      <th>director</th>\n",
       "      <th>genres</th>\n",
       "    </tr>\n",
       "    <tr>\n",
       "      <th>release_year</th>\n",
       "      <th></th>\n",
       "      <th></th>\n",
       "      <th></th>\n",
       "      <th></th>\n",
       "      <th></th>\n",
       "    </tr>\n",
       "  </thead>\n",
       "  <tbody>\n",
       "    <tr>\n",
       "      <th>2009</th>\n",
       "      <td>Avatar</td>\n",
       "      <td>2.827124e+09</td>\n",
       "      <td>2.408869e+08</td>\n",
       "      <td>James Cameron</td>\n",
       "      <td>Science Fiction</td>\n",
       "    </tr>\n",
       "    <tr>\n",
       "      <th>1977</th>\n",
       "      <td>Star Wars</td>\n",
       "      <td>2.789712e+09</td>\n",
       "      <td>3.957559e+07</td>\n",
       "      <td>George Lucas</td>\n",
       "      <td>Action</td>\n",
       "    </tr>\n",
       "    <tr>\n",
       "      <th>1997</th>\n",
       "      <td>Titanic</td>\n",
       "      <td>2.506406e+09</td>\n",
       "      <td>2.716921e+08</td>\n",
       "      <td>James Cameron</td>\n",
       "      <td>Drama</td>\n",
       "    </tr>\n",
       "    <tr>\n",
       "      <th>1973</th>\n",
       "      <td>The Exorcist</td>\n",
       "      <td>2.167325e+09</td>\n",
       "      <td>3.928928e+07</td>\n",
       "      <td>William Friedkin</td>\n",
       "      <td>Drama</td>\n",
       "    </tr>\n",
       "    <tr>\n",
       "      <th>1975</th>\n",
       "      <td>Jaws</td>\n",
       "      <td>1.907006e+09</td>\n",
       "      <td>2.836275e+07</td>\n",
       "      <td>Steven Spielberg</td>\n",
       "      <td>Thriller</td>\n",
       "    </tr>\n",
       "    <tr>\n",
       "      <th>2015</th>\n",
       "      <td>Star Wars: The Force Awakens</td>\n",
       "      <td>1.902723e+09</td>\n",
       "      <td>1.839999e+08</td>\n",
       "      <td>J.J. Abrams</td>\n",
       "      <td>Fantasy</td>\n",
       "    </tr>\n",
       "    <tr>\n",
       "      <th>1982</th>\n",
       "      <td>E.T. the Extra-Terrestrial</td>\n",
       "      <td>1.791694e+09</td>\n",
       "      <td>2.372625e+07</td>\n",
       "      <td>Steven Spielberg</td>\n",
       "      <td>Family</td>\n",
       "    </tr>\n",
       "    <tr>\n",
       "      <th>1995</th>\n",
       "      <td>The Net</td>\n",
       "      <td>1.583050e+09</td>\n",
       "      <td>3.148127e+07</td>\n",
       "      <td>Irwin Winkler</td>\n",
       "      <td>Thriller</td>\n",
       "    </tr>\n",
       "    <tr>\n",
       "      <th>1961</th>\n",
       "      <td>One Hundred and One Dalmatians</td>\n",
       "      <td>1.574815e+09</td>\n",
       "      <td>2.917944e+07</td>\n",
       "      <td>Wolfgang Reitherman</td>\n",
       "      <td>Adventure</td>\n",
       "    </tr>\n",
       "    <tr>\n",
       "      <th>2012</th>\n",
       "      <td>The Avengers</td>\n",
       "      <td>1.443191e+09</td>\n",
       "      <td>2.089437e+08</td>\n",
       "      <td>Joss Whedon</td>\n",
       "      <td>Action</td>\n",
       "    </tr>\n",
       "    <tr>\n",
       "      <th>1980</th>\n",
       "      <td>The Empire Strikes Back</td>\n",
       "      <td>1.424626e+09</td>\n",
       "      <td>4.762866e+07</td>\n",
       "      <td>Irvin Kershner</td>\n",
       "      <td>Science Fiction</td>\n",
       "    </tr>\n",
       "    <tr>\n",
       "      <th>1993</th>\n",
       "      <td>Jurassic Park</td>\n",
       "      <td>1.388863e+09</td>\n",
       "      <td>9.509661e+07</td>\n",
       "      <td>Steven Spielberg</td>\n",
       "      <td>Adventure</td>\n",
       "    </tr>\n",
       "    <tr>\n",
       "      <th>1967</th>\n",
       "      <td>The Jungle Book</td>\n",
       "      <td>1.345551e+09</td>\n",
       "      <td>2.614705e+07</td>\n",
       "      <td>Wolfgang Reitherman</td>\n",
       "      <td>Family</td>\n",
       "    </tr>\n",
       "    <tr>\n",
       "      <th>2003</th>\n",
       "      <td>The Lord of the Rings: The Return of the King</td>\n",
       "      <td>1.326278e+09</td>\n",
       "      <td>1.114231e+08</td>\n",
       "      <td>Peter Jackson</td>\n",
       "      <td>Action</td>\n",
       "    </tr>\n",
       "    <tr>\n",
       "      <th>2011</th>\n",
       "      <td>Harry Potter and the Deathly Hallows: Part 2</td>\n",
       "      <td>1.287184e+09</td>\n",
       "      <td>1.211748e+08</td>\n",
       "      <td>David Yates</td>\n",
       "      <td>Family</td>\n",
       "    </tr>\n",
       "    <tr>\n",
       "      <th>1972</th>\n",
       "      <td>The Godfather</td>\n",
       "      <td>1.277914e+09</td>\n",
       "      <td>3.128737e+07</td>\n",
       "      <td>Francis Ford Coppola</td>\n",
       "      <td>Drama</td>\n",
       "    </tr>\n",
       "    <tr>\n",
       "      <th>1983</th>\n",
       "      <td>Return of the Jedi</td>\n",
       "      <td>1.253819e+09</td>\n",
       "      <td>7.082424e+07</td>\n",
       "      <td>Richard Marquand</td>\n",
       "      <td>Action</td>\n",
       "    </tr>\n",
       "    <tr>\n",
       "      <th>1999</th>\n",
       "      <td>Star Wars: Episode I - The Phantom Menace</td>\n",
       "      <td>1.209981e+09</td>\n",
       "      <td>1.505411e+08</td>\n",
       "      <td>George Lucas</td>\n",
       "      <td>Science Fiction</td>\n",
       "    </tr>\n",
       "    <tr>\n",
       "      <th>2001</th>\n",
       "      <td>Harry Potter and the Philosopher's Stone</td>\n",
       "      <td>1.202518e+09</td>\n",
       "      <td>1.539360e+08</td>\n",
       "      <td>Chris Columbus</td>\n",
       "      <td>Family</td>\n",
       "    </tr>\n",
       "    <tr>\n",
       "      <th>2013</th>\n",
       "      <td>Frozen</td>\n",
       "      <td>1.192711e+09</td>\n",
       "      <td>1.404050e+08</td>\n",
       "      <td>Chris Buck</td>\n",
       "      <td>Adventure</td>\n",
       "    </tr>\n",
       "    <tr>\n",
       "      <th>1994</th>\n",
       "      <td>The Lion King</td>\n",
       "      <td>1.159592e+09</td>\n",
       "      <td>6.620002e+07</td>\n",
       "      <td>Roger Allers</td>\n",
       "      <td>Drama</td>\n",
       "    </tr>\n",
       "    <tr>\n",
       "      <th>2006</th>\n",
       "      <td>Pirates of the Caribbean: Dead Man's Chest</td>\n",
       "      <td>1.152691e+09</td>\n",
       "      <td>2.163338e+08</td>\n",
       "      <td>Gore Verbinski</td>\n",
       "      <td>Adventure</td>\n",
       "    </tr>\n",
       "    <tr>\n",
       "      <th>1996</th>\n",
       "      <td>Independence Day</td>\n",
       "      <td>1.135764e+09</td>\n",
       "      <td>1.042663e+08</td>\n",
       "      <td>Roland Emmerich</td>\n",
       "      <td>Science Fiction</td>\n",
       "    </tr>\n",
       "    <tr>\n",
       "      <th>1965</th>\n",
       "      <td>The Sound of Music</td>\n",
       "      <td>1.129535e+09</td>\n",
       "      <td>5.674862e+07</td>\n",
       "      <td>Robert Wise</td>\n",
       "      <td>Drama</td>\n",
       "    </tr>\n",
       "    <tr>\n",
       "      <th>2002</th>\n",
       "      <td>The Lord of the Rings: The Two Towers</td>\n",
       "      <td>1.122902e+09</td>\n",
       "      <td>9.576865e+07</td>\n",
       "      <td>Peter Jackson</td>\n",
       "      <td>Adventure</td>\n",
       "    </tr>\n",
       "    <tr>\n",
       "      <th>2010</th>\n",
       "      <td>Toy Story 3</td>\n",
       "      <td>1.063172e+09</td>\n",
       "      <td>2.000000e+08</td>\n",
       "      <td>Lee Unkrich</td>\n",
       "      <td>Animation</td>\n",
       "    </tr>\n",
       "    <tr>\n",
       "      <th>2004</th>\n",
       "      <td>Shrek 2</td>\n",
       "      <td>1.061904e+09</td>\n",
       "      <td>1.731668e+08</td>\n",
       "      <td>Andrew Adamson</td>\n",
       "      <td>Fantasy</td>\n",
       "    </tr>\n",
       "    <tr>\n",
       "      <th>2008</th>\n",
       "      <td>The Dark Knight</td>\n",
       "      <td>1.014733e+09</td>\n",
       "      <td>1.873655e+08</td>\n",
       "      <td>Christopher Nolan</td>\n",
       "      <td>Thriller</td>\n",
       "    </tr>\n",
       "    <tr>\n",
       "      <th>2007</th>\n",
       "      <td>Pirates of the Caribbean: At World's End</td>\n",
       "      <td>1.010654e+09</td>\n",
       "      <td>3.155006e+08</td>\n",
       "      <td>Gore Verbinski</td>\n",
       "      <td>Adventure</td>\n",
       "    </tr>\n",
       "    <tr>\n",
       "      <th>1978</th>\n",
       "      <td>Superman</td>\n",
       "      <td>1.003539e+09</td>\n",
       "      <td>1.838485e+08</td>\n",
       "      <td>Richard Donner</td>\n",
       "      <td>Action</td>\n",
       "    </tr>\n",
       "    <tr>\n",
       "      <th>2005</th>\n",
       "      <td>Harry Potter and the Goblet of Fire</td>\n",
       "      <td>1.000353e+09</td>\n",
       "      <td>1.674845e+08</td>\n",
       "      <td>Mike Newell</td>\n",
       "      <td>Adventure</td>\n",
       "    </tr>\n",
       "    <tr>\n",
       "      <th>1981</th>\n",
       "      <td>Raiders of the Lost Ark</td>\n",
       "      <td>9.351169e+08</td>\n",
       "      <td>4.316743e+07</td>\n",
       "      <td>Steven Spielberg</td>\n",
       "      <td>Adventure</td>\n",
       "    </tr>\n",
       "    <tr>\n",
       "      <th>2014</th>\n",
       "      <td>The Hobbit: The Battle of the Five Armies</td>\n",
       "      <td>8.797523e+08</td>\n",
       "      <td>2.302728e+08</td>\n",
       "      <td>Peter Jackson</td>\n",
       "      <td>Fantasy</td>\n",
       "    </tr>\n",
       "    <tr>\n",
       "      <th>1964</th>\n",
       "      <td>Goldfinger</td>\n",
       "      <td>8.780804e+08</td>\n",
       "      <td>2.460594e+07</td>\n",
       "      <td>Guy Hamilton</td>\n",
       "      <td>Action</td>\n",
       "    </tr>\n",
       "    <tr>\n",
       "      <th>1990</th>\n",
       "      <td>Ghost</td>\n",
       "      <td>8.427938e+08</td>\n",
       "      <td>3.671577e+07</td>\n",
       "      <td>Jerry Zucker</td>\n",
       "      <td>Drama</td>\n",
       "    </tr>\n",
       "    <tr>\n",
       "      <th>1989</th>\n",
       "      <td>Indiana Jones and the Last Crusade</td>\n",
       "      <td>8.340611e+08</td>\n",
       "      <td>8.443128e+07</td>\n",
       "      <td>Steven Spielberg</td>\n",
       "      <td>Action</td>\n",
       "    </tr>\n",
       "    <tr>\n",
       "      <th>1991</th>\n",
       "      <td>Terminator 2: Judgment Day</td>\n",
       "      <td>8.325683e+08</td>\n",
       "      <td>1.601093e+08</td>\n",
       "      <td>James Cameron</td>\n",
       "      <td>Science Fiction</td>\n",
       "    </tr>\n",
       "    <tr>\n",
       "      <th>1992</th>\n",
       "      <td>Aladdin</td>\n",
       "      <td>7.833063e+08</td>\n",
       "      <td>4.351268e+07</td>\n",
       "      <td>Ron Clements</td>\n",
       "      <td>Family</td>\n",
       "    </tr>\n",
       "    <tr>\n",
       "      <th>1985</th>\n",
       "      <td>Back to the Future</td>\n",
       "      <td>7.725728e+08</td>\n",
       "      <td>3.851615e+07</td>\n",
       "      <td>Robert Zemeckis</td>\n",
       "      <td>Adventure</td>\n",
       "    </tr>\n",
       "    <tr>\n",
       "      <th>1970</th>\n",
       "      <td>Love Story</td>\n",
       "      <td>7.660726e+08</td>\n",
       "      <td>1.235601e+07</td>\n",
       "      <td>Arthur Hiller</td>\n",
       "      <td>Romance</td>\n",
       "    </tr>\n",
       "    <tr>\n",
       "      <th>1998</th>\n",
       "      <td>Armageddon</td>\n",
       "      <td>7.408152e+08</td>\n",
       "      <td>1.872774e+08</td>\n",
       "      <td>Michael Bay</td>\n",
       "      <td>Science Fiction</td>\n",
       "    </tr>\n",
       "    <tr>\n",
       "      <th>1986</th>\n",
       "      <td>Top Gun</td>\n",
       "      <td>7.098811e+08</td>\n",
       "      <td>2.984110e+07</td>\n",
       "      <td>Tony Scott</td>\n",
       "      <td>Romance</td>\n",
       "    </tr>\n",
       "    <tr>\n",
       "      <th>1984</th>\n",
       "      <td>Indiana Jones and the Temple of Doom</td>\n",
       "      <td>6.989810e+08</td>\n",
       "      <td>5.877318e+07</td>\n",
       "      <td>Steven Spielberg</td>\n",
       "      <td>Adventure</td>\n",
       "    </tr>\n",
       "    <tr>\n",
       "      <th>2000</th>\n",
       "      <td>Mission: Impossible II</td>\n",
       "      <td>6.918869e+08</td>\n",
       "      <td>1.582865e+08</td>\n",
       "      <td>John Woo</td>\n",
       "      <td>Thriller</td>\n",
       "    </tr>\n",
       "    <tr>\n",
       "      <th>1988</th>\n",
       "      <td>Rain Man</td>\n",
       "      <td>6.542594e+08</td>\n",
       "      <td>4.609728e+07</td>\n",
       "      <td>Barry Levinson</td>\n",
       "      <td>Drama</td>\n",
       "    </tr>\n",
       "    <tr>\n",
       "      <th>1979</th>\n",
       "      <td>Moonraker</td>\n",
       "      <td>6.318577e+08</td>\n",
       "      <td>1.021548e+08</td>\n",
       "      <td>Lewis Gilbert</td>\n",
       "      <td>Thriller</td>\n",
       "    </tr>\n",
       "    <tr>\n",
       "      <th>1971</th>\n",
       "      <td>Diamonds Are Forever</td>\n",
       "      <td>6.246826e+08</td>\n",
       "      <td>3.877340e+07</td>\n",
       "      <td>Guy Hamilton</td>\n",
       "      <td>Science Fiction</td>\n",
       "    </tr>\n",
       "    <tr>\n",
       "      <th>1976</th>\n",
       "      <td>A Star Is Born</td>\n",
       "      <td>6.169034e+08</td>\n",
       "      <td>2.299019e+07</td>\n",
       "      <td>Frank Pierson</td>\n",
       "      <td>Drama</td>\n",
       "    </tr>\n",
       "    <tr>\n",
       "      <th>1987</th>\n",
       "      <td>Fatal Attraction</td>\n",
       "      <td>6.143853e+08</td>\n",
       "      <td>2.686713e+07</td>\n",
       "      <td>Adrian Lyne</td>\n",
       "      <td>Horror</td>\n",
       "    </tr>\n",
       "    <tr>\n",
       "      <th>1969</th>\n",
       "      <td>Butch Cassidy and the Sundance Kid</td>\n",
       "      <td>6.081511e+08</td>\n",
       "      <td>3.566559e+07</td>\n",
       "      <td>George Roy Hill</td>\n",
       "      <td>Crime</td>\n",
       "    </tr>\n",
       "    <tr>\n",
       "      <th>1963</th>\n",
       "      <td>From Russia With Love</td>\n",
       "      <td>5.617734e+08</td>\n",
       "      <td>1.780045e+07</td>\n",
       "      <td>Terence Young</td>\n",
       "      <td>Action</td>\n",
       "    </tr>\n",
       "    <tr>\n",
       "      <th>1974</th>\n",
       "      <td>Blazing Saddles</td>\n",
       "      <td>5.284629e+08</td>\n",
       "      <td>1.149794e+07</td>\n",
       "      <td>Mel Brooks</td>\n",
       "      <td>Western</td>\n",
       "    </tr>\n",
       "    <tr>\n",
       "      <th>1962</th>\n",
       "      <td>Lawrence of Arabia</td>\n",
       "      <td>5.045914e+08</td>\n",
       "      <td>1.081267e+08</td>\n",
       "      <td>David Lean</td>\n",
       "      <td>Adventure</td>\n",
       "    </tr>\n",
       "    <tr>\n",
       "      <th>1960</th>\n",
       "      <td>Spartacus</td>\n",
       "      <td>4.423780e+08</td>\n",
       "      <td>8.847561e+07</td>\n",
       "      <td>Stanley Kubrick</td>\n",
       "      <td>History</td>\n",
       "    </tr>\n",
       "    <tr>\n",
       "      <th>1968</th>\n",
       "      <td>2001: A Space Odyssey</td>\n",
       "      <td>3.555466e+08</td>\n",
       "      <td>7.522756e+07</td>\n",
       "      <td>Stanley Kubrick</td>\n",
       "      <td>Science Fiction</td>\n",
       "    </tr>\n",
       "    <tr>\n",
       "      <th>1966</th>\n",
       "      <td>Who's Afraid of Virginia Woolf?</td>\n",
       "      <td>2.266436e+08</td>\n",
       "      <td>5.038511e+07</td>\n",
       "      <td>Mike Nichols</td>\n",
       "      <td>Drama</td>\n",
       "    </tr>\n",
       "  </tbody>\n",
       "</table>\n",
       "</div>"
      ],
      "text/plain": [
       "                                             original_title   revenue_adj  \\\n",
       "release_year                                                                \n",
       "2009                                                 Avatar  2.827124e+09   \n",
       "1977                                              Star Wars  2.789712e+09   \n",
       "1997                                                Titanic  2.506406e+09   \n",
       "1973                                           The Exorcist  2.167325e+09   \n",
       "1975                                                   Jaws  1.907006e+09   \n",
       "2015                           Star Wars: The Force Awakens  1.902723e+09   \n",
       "1982                             E.T. the Extra-Terrestrial  1.791694e+09   \n",
       "1995                                                The Net  1.583050e+09   \n",
       "1961                         One Hundred and One Dalmatians  1.574815e+09   \n",
       "2012                                           The Avengers  1.443191e+09   \n",
       "1980                                The Empire Strikes Back  1.424626e+09   \n",
       "1993                                          Jurassic Park  1.388863e+09   \n",
       "1967                                        The Jungle Book  1.345551e+09   \n",
       "2003          The Lord of the Rings: The Return of the King  1.326278e+09   \n",
       "2011           Harry Potter and the Deathly Hallows: Part 2  1.287184e+09   \n",
       "1972                                          The Godfather  1.277914e+09   \n",
       "1983                                     Return of the Jedi  1.253819e+09   \n",
       "1999              Star Wars: Episode I - The Phantom Menace  1.209981e+09   \n",
       "2001               Harry Potter and the Philosopher's Stone  1.202518e+09   \n",
       "2013                                                 Frozen  1.192711e+09   \n",
       "1994                                          The Lion King  1.159592e+09   \n",
       "2006             Pirates of the Caribbean: Dead Man's Chest  1.152691e+09   \n",
       "1996                                       Independence Day  1.135764e+09   \n",
       "1965                                     The Sound of Music  1.129535e+09   \n",
       "2002                  The Lord of the Rings: The Two Towers  1.122902e+09   \n",
       "2010                                            Toy Story 3  1.063172e+09   \n",
       "2004                                                Shrek 2  1.061904e+09   \n",
       "2008                                        The Dark Knight  1.014733e+09   \n",
       "2007               Pirates of the Caribbean: At World's End  1.010654e+09   \n",
       "1978                                               Superman  1.003539e+09   \n",
       "2005                    Harry Potter and the Goblet of Fire  1.000353e+09   \n",
       "1981                                Raiders of the Lost Ark  9.351169e+08   \n",
       "2014              The Hobbit: The Battle of the Five Armies  8.797523e+08   \n",
       "1964                                             Goldfinger  8.780804e+08   \n",
       "1990                                                  Ghost  8.427938e+08   \n",
       "1989                     Indiana Jones and the Last Crusade  8.340611e+08   \n",
       "1991                             Terminator 2: Judgment Day  8.325683e+08   \n",
       "1992                                                Aladdin  7.833063e+08   \n",
       "1985                                     Back to the Future  7.725728e+08   \n",
       "1970                                             Love Story  7.660726e+08   \n",
       "1998                                             Armageddon  7.408152e+08   \n",
       "1986                                                Top Gun  7.098811e+08   \n",
       "1984                   Indiana Jones and the Temple of Doom  6.989810e+08   \n",
       "2000                                 Mission: Impossible II  6.918869e+08   \n",
       "1988                                               Rain Man  6.542594e+08   \n",
       "1979                                              Moonraker  6.318577e+08   \n",
       "1971                                   Diamonds Are Forever  6.246826e+08   \n",
       "1976                                         A Star Is Born  6.169034e+08   \n",
       "1987                                       Fatal Attraction  6.143853e+08   \n",
       "1969                     Butch Cassidy and the Sundance Kid  6.081511e+08   \n",
       "1963                                  From Russia With Love  5.617734e+08   \n",
       "1974                                        Blazing Saddles  5.284629e+08   \n",
       "1962                                     Lawrence of Arabia  5.045914e+08   \n",
       "1960                                              Spartacus  4.423780e+08   \n",
       "1968                                  2001: A Space Odyssey  3.555466e+08   \n",
       "1966                        Who's Afraid of Virginia Woolf?  2.266436e+08   \n",
       "\n",
       "                budget_adj              director           genres  \n",
       "release_year                                                       \n",
       "2009          2.408869e+08         James Cameron  Science Fiction  \n",
       "1977          3.957559e+07          George Lucas           Action  \n",
       "1997          2.716921e+08         James Cameron            Drama  \n",
       "1973          3.928928e+07      William Friedkin            Drama  \n",
       "1975          2.836275e+07      Steven Spielberg         Thriller  \n",
       "2015          1.839999e+08           J.J. Abrams          Fantasy  \n",
       "1982          2.372625e+07      Steven Spielberg           Family  \n",
       "1995          3.148127e+07         Irwin Winkler         Thriller  \n",
       "1961          2.917944e+07   Wolfgang Reitherman        Adventure  \n",
       "2012          2.089437e+08           Joss Whedon           Action  \n",
       "1980          4.762866e+07        Irvin Kershner  Science Fiction  \n",
       "1993          9.509661e+07      Steven Spielberg        Adventure  \n",
       "1967          2.614705e+07   Wolfgang Reitherman           Family  \n",
       "2003          1.114231e+08         Peter Jackson           Action  \n",
       "2011          1.211748e+08           David Yates           Family  \n",
       "1972          3.128737e+07  Francis Ford Coppola            Drama  \n",
       "1983          7.082424e+07      Richard Marquand           Action  \n",
       "1999          1.505411e+08          George Lucas  Science Fiction  \n",
       "2001          1.539360e+08        Chris Columbus           Family  \n",
       "2013          1.404050e+08            Chris Buck        Adventure  \n",
       "1994          6.620002e+07          Roger Allers            Drama  \n",
       "2006          2.163338e+08        Gore Verbinski        Adventure  \n",
       "1996          1.042663e+08       Roland Emmerich  Science Fiction  \n",
       "1965          5.674862e+07           Robert Wise            Drama  \n",
       "2002          9.576865e+07         Peter Jackson        Adventure  \n",
       "2010          2.000000e+08           Lee Unkrich        Animation  \n",
       "2004          1.731668e+08        Andrew Adamson          Fantasy  \n",
       "2008          1.873655e+08     Christopher Nolan         Thriller  \n",
       "2007          3.155006e+08        Gore Verbinski        Adventure  \n",
       "1978          1.838485e+08        Richard Donner           Action  \n",
       "2005          1.674845e+08           Mike Newell        Adventure  \n",
       "1981          4.316743e+07      Steven Spielberg        Adventure  \n",
       "2014          2.302728e+08         Peter Jackson          Fantasy  \n",
       "1964          2.460594e+07          Guy Hamilton           Action  \n",
       "1990          3.671577e+07          Jerry Zucker            Drama  \n",
       "1989          8.443128e+07      Steven Spielberg           Action  \n",
       "1991          1.601093e+08         James Cameron  Science Fiction  \n",
       "1992          4.351268e+07          Ron Clements           Family  \n",
       "1985          3.851615e+07       Robert Zemeckis        Adventure  \n",
       "1970          1.235601e+07         Arthur Hiller          Romance  \n",
       "1998          1.872774e+08           Michael Bay  Science Fiction  \n",
       "1986          2.984110e+07            Tony Scott          Romance  \n",
       "1984          5.877318e+07      Steven Spielberg        Adventure  \n",
       "2000          1.582865e+08              John Woo         Thriller  \n",
       "1988          4.609728e+07        Barry Levinson            Drama  \n",
       "1979          1.021548e+08         Lewis Gilbert         Thriller  \n",
       "1971          3.877340e+07          Guy Hamilton  Science Fiction  \n",
       "1976          2.299019e+07         Frank Pierson            Drama  \n",
       "1987          2.686713e+07           Adrian Lyne           Horror  \n",
       "1969          3.566559e+07       George Roy Hill            Crime  \n",
       "1963          1.780045e+07         Terence Young           Action  \n",
       "1974          1.149794e+07            Mel Brooks          Western  \n",
       "1962          1.081267e+08            David Lean        Adventure  \n",
       "1960          8.847561e+07       Stanley Kubrick          History  \n",
       "1968          7.522756e+07       Stanley Kubrick  Science Fiction  \n",
       "1966          5.038511e+07          Mike Nichols            Drama  "
      ]
     },
     "execution_count": 721,
     "metadata": {},
     "output_type": "execute_result"
    }
   ],
   "source": [
    "# Get the top movie of every year\n",
    "# Merge main dataframe with director dataframe\n",
    "# Get some columns from the merge to analysis them\n",
    "top_movies_rev_bud = df_copy.merge(df_directors).merge(df_genres)\n",
    "top_movies_rev_bud[['original_title', 'revenue_adj', 'release_year', 'budget_adj', 'director', 'genres']]\\\n",
    "                    .sort_values(['release_year', 'revenue_adj'], ascending=False).drop_duplicates(subset='release_year')\\\n",
    "                    .set_index('release_year').sort_values('revenue_adj', ascending=False)"
   ]
  },
  {
   "cell_type": "markdown",
   "id": "d7063dee",
   "metadata": {},
   "source": [
    "I found that the **Avatar** movie got the most revenue"
   ]
  },
  {
   "cell_type": "markdown",
   "id": "55f86e44",
   "metadata": {},
   "source": [
    "<a id='8'></a>\n",
    "### Research Question 8  (top 10 years revenue)"
   ]
  },
  {
   "cell_type": "code",
   "execution_count": 722,
   "id": "fa2ef345",
   "metadata": {},
   "outputs": [
    {
     "data": {
      "image/png": "[encoded data removed]",
      "text/plain": [
       "<Figure size 432x288 with 1 Axes>"
      ]
     },
     "metadata": {
      "needs_background": "light"
     },
     "output_type": "display_data"
    }
   ],
   "source": [
    "# Find the top year of revenue\n",
    "# Group by year and sum the revenue and sort from up to down\n",
    "# and reset index get top 10 years of revenue\n",
    "top_year_rev = df_copy.groupby('release_year').agg({'revenue_adj': 'sum'}).sort_values('revenue_adj', ascending=False)\\\n",
    "                        .reset_index().head(10)\n",
    "\n",
    "# a plot shows the years of top revenue\n",
    "top_year_rev.plot(x='release_year', y='revenue_adj', kind='bar', legend='')\n",
    "plt.title(\"Top years revenue\")\n",
    "plt.ylabel('revenue');"
   ]
  },
  {
   "cell_type": "markdown",
   "id": "2380b7b3",
   "metadata": {},
   "source": [
    "The top year got revenue was **2015**"
   ]
  },
  {
   "cell_type": "markdown",
   "id": "d799736e",
   "metadata": {},
   "source": [
    "<a id='9'></a>\n",
    "### Research Question 9  (top 10 movies losses & why)"
   ]
  },
  {
   "cell_type": "code",
   "execution_count": 773,
   "id": "7b027d79",
   "metadata": {
    "scrolled": false
   },
   "outputs": [
    {
     "data": {
      "image/png": "[encoded data removed]",
      "text/plain": [
       "<Figure size 1296x360 with 3 Axes>"
      ]
     },
     "metadata": {
      "needs_background": "light"
     },
     "output_type": "display_data"
    }
   ],
   "source": [
    "df_copy['profit'] = df_copy['revenue_adj'] - df_copy['budget_adj']\n",
    "movie_losses = df_copy[df_copy.profit < 0].sort_values('profit')\n",
    "# I select the values less than 0 and multiple by -1 to make it postive\n",
    "# to make the plot normal \n",
    "movie_losses['profit'] = movie_losses['profit'] * -1\n",
    "movie_earnings = df_copy[df_copy.profit > 0].sort_values('profit', ascending=False)\n",
    "\n",
    "# Graphs input data\n",
    "fig, ax = plt.subplots(1, 3)\n",
    "ax[0].bar('losses movies', movie_losses.vote_count.sample(1000).mean())\n",
    "ax[0].bar('earnings movies', movie_earnings.vote_count.sample(1000).mean())\n",
    "ax[1].bar('losses movies', movie_losses.popularity.sample(1000).mean())\n",
    "ax[1].bar('earnings movies', movie_earnings.popularity.sample(1000).mean())\n",
    "ax[2].bar(movie_losses.original_title.head(10), movie_losses.profit.head(10))\n",
    "\n",
    "# Titles for graphs\n",
    "ax[0].set_title(\"Average of vote count\")\n",
    "ax[1].set_title(\"Average of popularity\")\n",
    "ax[2].set_title('Top 10 movies losses')\n",
    "\n",
    "# Set x label\n",
    "ax[0].set_xlabel(\"vote count\")\n",
    "ax[1].set_xlabel(\"popularity\")\n",
    "ax[2].set_xlabel(\"Title\")\n",
    "\n",
    "# Rotate the x axis ticks\n",
    "ax[2].tick_params(labelrotation=90)\n",
    "\n",
    "# Set y label\n",
    "ax[0].set_ylabel('Amount', fontsize=20, labelpad = 20)\n",
    "\n",
    "# Figure customize\n",
    "fig.set_figwidth(18)\n",
    "fig.set_figheight(5);"
   ]
  },
  {
   "cell_type": "markdown",
   "id": "558ed8fa",
   "metadata": {},
   "source": [
    "By calculating the average of **vote count** & **popularity** of two types of movie, movies that hasn't revenue and other have revenue, i found that the movies has losses got low popularity and low vote "
   ]
  },
  {
   "cell_type": "markdown",
   "id": "2c27ce4b",
   "metadata": {},
   "source": [
    "<a id='conclusions'></a>\n",
    "## Conclusions\n",
    ">**Results**\n",
    "><ol>\n",
    "    <font color='#333'>\n",
    "    <li>Drama is the most popular genre, following by comedy</li>\n",
    "    <li>The most correlation with revenue is the vote count, following by budget</li>\n",
    "    <li>The most genre revenue and budget is Action, following by Adventure</li>\n",
    "    <li>The most production company's revenue is Warner Bros, following by Universal Pictures</li>\n",
    "    <li>The most prodction company has product is Unviersal Pictures, following by Warner Bros</li>\n",
    "    <li>Revenue & budget and popularity increase over years</li>\n",
    "    <li>The top movie revenue is Avatar, following by Star Wars</li>\n",
    "    <li>The top year revenue is 2015, following by 2012</li>\n",
    "    <li>The top movie lose money is The Warrior's Way</li>\n",
    "    </font>\n",
    "</ol>\n",
    "\n",
    ">**Limitations**\n",
    "><ol>\n",
    "    <li>There's some null values in keywords and tagline</li>\n",
    "    <li>There is alot missing values in revenue and budget columns</li>\n",
    "    <li>During the data cleaning process, I split the data seperated by '|' into lists. This increases the time taken in calculating the result</li>\n",
    " </ol>"
   ]
  }
 ],
 "metadata": {
  "kernelspec": {
   "display_name": "Python 3 (ipykernel)",
   "language": "python",
   "name": "python3"
  },
  "language_info": {
   "codemirror_mode": {
    "name": "ipython",
    "version": 3
   },
   "file_extension": ".py",
   "mimetype": "text/x-python",
   "name": "python",
   "nbconvert_exporter": "python",
   "pygments_lexer": "ipython3",
   "version": "3.9.7"
  }
 },
 "nbformat": 4,
 "nbformat_minor": 5
}
